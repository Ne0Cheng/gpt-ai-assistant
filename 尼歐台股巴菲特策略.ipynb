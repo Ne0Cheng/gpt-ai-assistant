{
  "nbformat": 4,
  "nbformat_minor": 0,
  "metadata": {
    "colab": {
      "provenance": [],
      "collapsed_sections": [
        "kZ3TsEIvkPg_"
      ],
      "authorship_tag": "ABX9TyM1b3kdbSP17sJdlDn2KVvZ",
      "include_colab_link": true
    },
    "kernelspec": {
      "name": "python3",
      "display_name": "Python 3"
    },
    "language_info": {
      "name": "python"
    }
  },
  "cells": [
    {
      "cell_type": "markdown",
      "metadata": {
        "id": "view-in-github",
        "colab_type": "text"
      },
      "source": [
        "<a href=\"https://colab.research.google.com/github/Ne0Cheng/gpt-ai-assistant/blob/main/%E5%B0%BC%E6%AD%90%E5%8F%B0%E8%82%A1%E5%B7%B4%E8%8F%B2%E7%89%B9%E7%AD%96%E7%95%A5.ipynb\" target=\"_parent\"><img src=\"https://colab.research.google.com/assets/colab-badge.svg\" alt=\"Open In Colab\"/></a>"
      ]
    },
    {
      "cell_type": "markdown",
      "source": [
        "# **下載歷史資料庫**"
      ],
      "metadata": {
        "id": "kZ3TsEIvkPg_"
      }
    },
    {
      "cell_type": "code",
      "source": [
        "# 下載歷史資料庫\n",
        "!pip install finlab > log.txt\n",
        "!pip install ta-lib-bin > log.txt"
      ],
      "metadata": {
        "id": "Af_tT-AnkSuv"
      },
      "execution_count": null,
      "outputs": []
    },
    {
      "cell_type": "markdown",
      "source": [
        "# **巴菲特選股策略**"
      ],
      "metadata": {
        "id": "NhxWvAMYdzz2"
      }
    },
    {
      "cell_type": "code",
      "source": [
        "# @title\n",
        "# 導入必要模組\n",
        "from finlab import data, backtest\n",
        "import talib\n",
        "\n",
        "# 獲取財務數據\n",
        "當月營收 = data.get(\"monthly_revenue:當月營收\")\n",
        "revenue_growth_rate = data.get('fundamental_features:營收成長率')\n",
        "roe = data.get('fundamental_features:ROE稅後')\n",
        "pb_ratio = data.get('price_earning_ratio:股價淨值比')\n",
        "volume = data.get('price:成交股數')\n",
        "close = data.get('price:收盤價')\n",
        "\n",
        "# 計算月營收斜率\n",
        "def rev_growth_func(rev):\n",
        "    return talib.LINEARREG_SLOPE(rev, timeperiod=12) / talib.LINEARREG_INTERCEPT(rev,12)\n",
        "\n",
        "rev_grouwth = 當月營收.apply(rev_growth_func)\n",
        "\n",
        "# 定義選擇標準\n",
        "revenue_growth_threshold = revenue_growth_rate.quantile(0.8, axis=1)\n",
        "roe_threshold = roe.mean(axis=1)\n",
        "\n",
        "# 找尋符合標準的股票\n",
        "revenue_growth_stocks = revenue_growth_rate > revenue_growth_threshold\n",
        "high_roe_stocks = (roe > roe.quantile(0.5, axis=1)).deadline()\n",
        "rev_sl_compare = (當月營收.average(3) > 當月營收.average(12)) & (當月營收 > 當月營收.shift(12))\n",
        "\n",
        "# 定義購買條件\n",
        "buy_condition = (\n",
        "\n",
        "    # 把 ROE > 80% 改成 ROE > 50%，ROE 在台股會有回歸效應（ROE高不可持續，反而傷害股價）\n",
        "    high_roe_stocks\n",
        "\n",
        "    # 增加月營收成長的部分（台股才有月營收，資料公布時間更快）\n",
        "    & (當月營收.pct_change().rolling(12).std() < 0.3)\n",
        "    & rev_sl_compare\n",
        "\n",
        "    # 把本益比換成股價淨值比（本益比在台股上直接用比較困難）\n",
        "    & (pb_ratio < 2)\n",
        "\n",
        "    # 增加流動性\n",
        "    & (volume > 200000)\n",
        "\n",
        "    # 回測後發現波動（風險）太大，選擇低風險特性的股票\n",
        "    & (close.pct_change().rolling(60).std() < 0.025)\n",
        ")\n",
        "\n",
        "# 月營收增長最快的股票\n",
        "position = rev_grouwth[buy_condition].is_largest(5)\n",
        "\n",
        "# 調整換股時間為月營收截止日\n",
        "position = position.reindex(當月營收.index_str_to_date().index)\n",
        "\n",
        "# Simulate positions\n",
        "result = backtest.sim(position, position_limit=0.2, name='巴菲特選股法優化版')"
      ],
      "metadata": {
        "colab": {
          "base_uri": "https://localhost:8080/",
          "height": 621
        },
        "id": "QM2Evr2EdzUX",
        "outputId": "364def37-2946-4d52-9529-c742864e6b58"
      },
      "execution_count": null,
      "outputs": [
        {
          "output_type": "display_data",
          "data": {
            "text/plain": [
              "<IPython.lib.display.IFrame at 0x78663c080070>"
            ],
            "text/html": [
              "\n",
              "        <iframe\n",
              "            width=\"100%\"\n",
              "            height=\"600\"\n",
              "            src=\"https://ai.finlab.tw/strategy/?uid=JuIgCvs7EDaqOwLq6LEQW6PaUxt1&sid=巴菲特選股法優化版\"\n",
              "            frameborder=\"0\"\n",
              "            allowfullscreen\n",
              "            \n",
              "        ></iframe>\n",
              "        "
            ]
          },
          "metadata": {}
        }
      ]
    }
  ]
}